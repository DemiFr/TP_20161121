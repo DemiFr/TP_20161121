{
 "cells": [
  {
   "cell_type": "code",
   "execution_count": 16,
   "metadata": {
    "collapsed": false
   },
   "outputs": [
    {
     "name": "stdout",
     "output_type": "stream",
     "text": [
      "<type 'list'>\n",
      "['w', 'z', 'k', 'h', 'j', 'd', 's', 'x', 'a', 'o', 'l', 'v', 'c', 'i', 't', 'u', 'm', 'y', 'f', 'n', 'r', 'g', 'p', 'b', 'q', 'e']\n"
     ]
    }
   ],
   "source": [
    "import random\n",
    "import string\n",
    "alphabet = string.ascii_lowercase\n",
    "alphalist = list(alphabet)\n",
    "random.shuffle(alphalist)\n",
    "print type(alphalist)\n",
    "print(alphalist)"
   ]
  },
  {
   "cell_type": "code",
   "execution_count": 32,
   "metadata": {
    "collapsed": false
   },
   "outputs": [
    {
     "name": "stdout",
     "output_type": "stream",
     "text": [
      "{'a': 'w', 'c': 'k', 'b': 'z', 'e': 'j', 'd': 'h', 'g': 's', 'f': 'd', 'i': 'a', 'h': 'x', 'k': 'l', 'j': 'o', 'm': 'c', 'l': 'v', 'o': 't', 'n': 'i', 'q': 'm', 'p': 'u', 's': 'f', 'r': 'y', 'u': 'r', 't': 'n', 'w': 'p', 'v': 'g', 'y': 'q', 'x': 'b', 'z': 'e'}\n"
     ]
    }
   ],
   "source": [
    "code = dict()\n",
    "i = 0\n",
    "for c in alphabet:\n",
    "    code[c] = alphalist[i]\n",
    "    i += 1\n",
    "print code"
   ]
  },
  {
   "cell_type": "code",
   "execution_count": 36,
   "metadata": {
    "collapsed": false
   },
   "outputs": [
    {
     "name": "stdout",
     "output_type": "stream",
     "text": [
      "52\n",
      "[0, 1, 2, 3, 4, 5, 6, 7, 8, 9, 10, 11, 12, 13, 14, 15, 16, 17, 18, 19, 20, 21, 22, 23, 24, 25, 26, 27, 28, 29, 30, 31, 32, 33, 34, 35, 36, 37, 38, 39, 40, 41, 42, 43, 44, 45, 46, 47, 48, 49, 50, 51]\n",
      "[0, 1, 2, 3, 4, 5, 6, 7, 8, 9, 10, 11, 12, 13, 14, 15, 16, 17, 18, 19, 20, 21, 22, 23, 24, 25, 26, 27, 28, 29, 30, 31, 32, 33, 34, 35, 36, 37, 38, 39, 40, 41, 42, 43, 44, 45, 46, 47, 48, 49, 50, 51]\n"
     ]
    }
   ],
   "source": [
    "#test the function\n",
    "indexes = list(range(len(alphabet)))\n",
    "print len(alphabet)\n",
    "print range(len(alphabet))\n",
    "print indexes"
   ]
  },
  {
   "cell_type": "code",
   "execution_count": 33,
   "metadata": {
    "collapsed": false
   },
   "outputs": [
    {
     "name": "stdout",
     "output_type": "stream",
     "text": [
      "abcdefghijklmnopqrstuvwxyzABCDEFGHIJKLMNOPQRSTUVWXYZ\n"
     ]
    }
   ],
   "source": [
    "#test the function\n",
    "alphabet = string.ascii_letters.decode('utf8')\n",
    "print alphabet"
   ]
  },
  {
   "cell_type": "code",
   "execution_count": 35,
   "metadata": {
    "collapsed": false
   },
   "outputs": [
    {
     "name": "stdout",
     "output_type": "stream",
     "text": [
      "abcdefghijklmnopqrstuvwxyzABCDEFGHIJKLMNOPQRSTUVWXYZ\n"
     ]
    }
   ],
   "source": [
    "#test the function\n",
    "alphabet = string.ascii_letters\n",
    "print alphabet"
   ]
  },
  {
   "cell_type": "code",
   "execution_count": null,
   "metadata": {
    "collapsed": true
   },
   "outputs": [],
   "source": []
  }
 ],
 "metadata": {
  "kernelspec": {
   "display_name": "Python 2",
   "language": "python",
   "name": "python2"
  },
  "language_info": {
   "codemirror_mode": {
    "name": "ipython",
    "version": 2
   },
   "file_extension": ".py",
   "mimetype": "text/x-python",
   "name": "python",
   "nbconvert_exporter": "python",
   "pygments_lexer": "ipython2",
   "version": "2.7.12"
  }
 },
 "nbformat": 4,
 "nbformat_minor": 0
}
