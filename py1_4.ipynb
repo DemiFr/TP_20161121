{
 "cells": [
  {
   "cell_type": "code",
   "execution_count": 7,
   "metadata": {
    "collapsed": false
   },
   "outputs": [
    {
     "name": "stdout",
     "output_type": "stream",
     "text": [
      "{'!': 2, ' ': 1, 'e': 1, 'd': 1, 'H': 1, 'l': 3, 'o': 2, 'r': 1, 'W': 1}\n"
     ]
    }
   ],
   "source": [
    "s = \"Hello World!!\"\n",
    "caracter = dict()\n",
    "for c in s:\n",
    "    if c in caracter:\n",
    "        caracter[c] = caracter[c]+1\n",
    "    else:\n",
    "        caracter[c] = 1\n",
    "print(caracter)"
   ]
  },
  {
   "cell_type": "code",
   "execution_count": 9,
   "metadata": {
    "collapsed": false
   },
   "outputs": [
    {
     "name": "stdout",
     "output_type": "stream",
     "text": [
      "H\n",
      "e\n",
      "l\n",
      "l\n",
      "o\n",
      " \n",
      "W\n",
      "o\n",
      "r\n",
      "l\n",
      "d\n",
      "!\n",
      "!\n",
      "{'!': 2, ' ': 1, 'e': 1, 'd': 1, 'H': 1, 'l': 3, 'o': 2, 'r': 1, 'W': 1}\n"
     ]
    }
   ],
   "source": [
    "#Solution:\n",
    "s_new = \"Hello World!!\"\n",
    "params = {}                    #!!\n",
    "\n",
    "for letter in s_new:\n",
    "    print(letter)\n",
    "    if letter not in params:   #!! not in\n",
    "        params[letter] = 1\n",
    "    else:\n",
    "        params[letter] += 1    #!!  +=\n",
    "print(params)"
   ]
  },
  {
   "cell_type": "code",
   "execution_count": null,
   "metadata": {
    "collapsed": true
   },
   "outputs": [],
   "source": []
  }
 ],
 "metadata": {
  "kernelspec": {
   "display_name": "Python 2",
   "language": "python",
   "name": "python2"
  },
  "language_info": {
   "codemirror_mode": {
    "name": "ipython",
    "version": 2
   },
   "file_extension": ".py",
   "mimetype": "text/x-python",
   "name": "python",
   "nbconvert_exporter": "python",
   "pygments_lexer": "ipython2",
   "version": "2.7.12"
  }
 },
 "nbformat": 4,
 "nbformat_minor": 0
}
